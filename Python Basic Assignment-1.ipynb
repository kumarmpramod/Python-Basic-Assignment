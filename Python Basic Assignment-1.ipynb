{
 "cells": [
  {
   "cell_type": "raw",
   "id": "c32a290b",
   "metadata": {},
   "source": [
    "1. In the below elements which of them are values or an expression? eg:- values can be\n",
    "integer or string and expressions will be mathematical operators.\n",
    "*,- , /, +      : expression\n",
    "hello; -87.8, 6 : value\n"
   ]
  },
  {
   "cell_type": "code",
   "execution_count": null,
   "id": "ac21db32",
   "metadata": {},
   "outputs": [],
   "source": [
    "2. What is the difference between string and variable?\n",
    "String is the value declared between the quotes.\n",
    "Variable is something that can store strings and integers.\n"
   ]
  },
  {
   "cell_type": "code",
   "execution_count": null,
   "id": "8873b0f2",
   "metadata": {},
   "outputs": [],
   "source": [
    "3. Describe three different data types.\n",
    "Numeric data: Represents numeric value\n",
    "String data: Collection of characters\n",
    "Boolean data: Data types with either True or False built in value."
   ]
  },
  {
   "cell_type": "code",
   "execution_count": null,
   "id": "3274e2be",
   "metadata": {},
   "outputs": [],
   "source": [
    "4. What is an expression made up of? What do all expressions do?\n",
    "Expression is a combination of values , variables and operators. Expressions perform operations and return the values as result."
   ]
  },
  {
   "cell_type": "code",
   "execution_count": null,
   "id": "818c739c",
   "metadata": {},
   "outputs": [],
   "source": [
    "5. What is the difference between an expression and a statement?\n",
    "Statement are line or lines of information or codes\n",
    "Expressions perform operations and return the results"
   ]
  },
  {
   "cell_type": "code",
   "execution_count": null,
   "id": "bfb6ef72",
   "metadata": {},
   "outputs": [],
   "source": [
    "6. After running the following code, what does the variable bacon contain?\n",
    "bacon = 22\n",
    "bacon + 1\n",
    "\n",
    "23"
   ]
  },
  {
   "cell_type": "code",
   "execution_count": null,
   "id": "1d96112d",
   "metadata": {},
   "outputs": [],
   "source": [
    "7. What should the values of the following two terms be?\n",
    "'spam' + 'spamspam'  'spamspamspam'  \n",
    "spam * 3             'spamspamspam'\n"
   ]
  },
  {
   "cell_type": "code",
   "execution_count": null,
   "id": "b9e6a7c9",
   "metadata": {},
   "outputs": [],
   "source": [
    "8.Why is eggs a valid variable name while 100 is invalid?\n",
    "A variable name must start with a letter or the underscore character. A variable name cannot start with a number. \n",
    "A variable name can only contain alpha-numeric characters and underscores."
   ]
  },
  {
   "cell_type": "code",
   "execution_count": null,
   "id": "a72739a7",
   "metadata": {},
   "outputs": [],
   "source": [
    "9.What three functions can be used to get the integer, floating-point number, or string version of a value?\n",
    "int(), float() and str()"
   ]
  },
  {
   "cell_type": "code",
   "execution_count": null,
   "id": "39a4562e",
   "metadata": {},
   "outputs": [],
   "source": [
    "10.Why does this expression cause an error? How can you fix it?\n",
    "'I have eaten' + 99 + 'burritos'\n",
    "99 is an integer and must be written in quotes to make it a string and then execute."
   ]
  }
 ],
 "metadata": {
  "kernelspec": {
   "display_name": "Python 3 (ipykernel)",
   "language": "python",
   "name": "python3"
  },
  "language_info": {
   "codemirror_mode": {
    "name": "ipython",
    "version": 3
   },
   "file_extension": ".py",
   "mimetype": "text/x-python",
   "name": "python",
   "nbconvert_exporter": "python",
   "pygments_lexer": "ipython3",
   "version": "3.9.7"
  }
 },
 "nbformat": 4,
 "nbformat_minor": 5
}
