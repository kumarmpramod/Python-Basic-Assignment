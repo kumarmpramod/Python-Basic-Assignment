{
 "cells": [
  {
   "cell_type": "raw",
   "id": "d176f80e",
   "metadata": {},
   "source": [
    "1.What are the two values of the Boolean data type? How do you write them?\n",
    "\n",
    "1 and 0 are the two boolean values. It is written as True and False.\n"
   ]
  },
  {
   "cell_type": "raw",
   "id": "479e1d6e",
   "metadata": {},
   "source": [
    "2. What are the three different types of Boolean operators?\n",
    "\n",
    "and, or & not"
   ]
  },
  {
   "cell_type": "raw",
   "id": "da9da9a3",
   "metadata": {},
   "source": [
    "3. Make a list of each Boolean operator's truth tables (i.e. every possible combination of Boolean values for the operator and what it evaluate )\n",
    "\n",
    "and\n",
    "0 and 1 = 0\n",
    "1 and 0 = 0\n",
    "0 and 0 = 0\n",
    "1 and 1 = \n",
    "\n",
    "or\n",
    "0 or 1 = 1\n",
    "1 or 0 = 1\n",
    "0 or 0 = 0\n",
    "1 or 1 = 1\n",
    "\n",
    "not\n",
    "not(0) =1\n",
    "not(1) =0\n"
   ]
  },
  {
   "cell_type": "raw",
   "id": "cda5753a",
   "metadata": {},
   "source": [
    "4. What are the values of the following expressions?\n",
    "\n",
    "(5 > 4) and (3 == 5) = 0\n",
    "not (5 > 4) = 0\n",
    "(5 > 4) or (3 == 5) = 1\n",
    "not ((5 > 4) or (3 == 5)) = 0\n",
    "(True and True) and (True == False) = 0 \n",
    "(not False) or (not True) = 1\n"
   ]
  },
  {
   "cell_type": "raw",
   "id": "4853c790",
   "metadata": {},
   "source": [
    "5. What are the six comparison operators\n",
    "\n",
    "less than ( < ), less than or equal to ( <= ), greater than ( > ), greater than or equal to ( >= ), equal to ( == ), and not equal to ( != )\n",
    "\n"
   ]
  },
  {
   "cell_type": "code",
   "execution_count": null,
   "id": "45c3372b",
   "metadata": {},
   "outputs": [],
   "source": [
    "6. How do you tell the difference between the equal to and assignment operators?Describe a condition and when you would use one.\n",
    "\n",
    "The “=” is an assignment operator is used to assign the value on the right to the variable on the left. \n",
    "The '==' operator checks whether the two given operands are equal or not."
   ]
  },
  {
   "cell_type": "raw",
   "id": "1f3d247a",
   "metadata": {},
   "source": [
    "7. Identify the three blocks in this code:\n",
    "spam = 0\n",
    "if spam == 10:\n",
    "print('eggs')  end of block 1\n",
    "if spam > 5:\n",
    "print('bacon') end of block 2\n",
    "else:\n",
    "print('ham')\n",
    "print('spam')\n",
    "print('spam')  end of block 3\n"
   ]
  },
  {
   "cell_type": "raw",
   "id": "4bcae3a2",
   "metadata": {},
   "source": [
    "#8. Write code that prints Hello if 1 is stored in spam, prints Howdy if 2 is stored in spam, \n",
    "#and prints Greetings! if anything else is stored in spam.\n",
    "\n",
    "spam=input()\n",
    "if spam==1:\n",
    "    print('hello')\n",
    "elif spam==2:\n",
    "    print('Howdy')\n",
    "else:\n",
    "    print('Greetings')\n"
   ]
  },
  {
   "cell_type": "raw",
   "id": "41e2c427",
   "metadata": {},
   "source": [
    "9.If your programme is stuck in an endless loop, what keys you’ll press?\n",
    "\n",
    "Interrupt the kernel or reset the kernal"
   ]
  },
  {
   "cell_type": "raw",
   "id": "535e260d",
   "metadata": {},
   "source": [
    "10. How can you tell the difference between break and continue?\n",
    "\n",
    "\t\n",
    "Break terminates the loop\n",
    "Continue terminates only the current iteration of loop.\n",
    "\n"
   ]
  },
  {
   "cell_type": "raw",
   "id": "1b3385a0",
   "metadata": {},
   "source": [
    "11. In a for loop, what is the difference between range(10), range(0, 10), and range(0, 10, 1)?\n",
    "\n",
    "range(10) \n",
    "user chooses only stop argumenet\n",
    "range(0, 10)\n",
    "user chooses only start and stop argumenet\n",
    "range(0, 10, 1)\n",
    "user chooses only start, stop and step argumenet"
   ]
  },
  {
   "cell_type": "code",
   "execution_count": 13,
   "id": "653788db",
   "metadata": {},
   "outputs": [
    {
     "name": "stdout",
     "output_type": "stream",
     "text": [
      "1\n",
      "2\n",
      "3\n",
      "4\n",
      "5\n",
      "6\n",
      "7\n",
      "8\n",
      "9\n",
      "10\n"
     ]
    }
   ],
   "source": [
    "#12. Write a short program that prints the numbers 1 to 10 using a for loop. \n",
    "#Then write an equivalent program that prints the numbers 1 to 10 using a while loop.\n",
    "\n",
    "for i in range(1,11,1):\n",
    "    print(i)"
   ]
  },
  {
   "cell_type": "code",
   "execution_count": 14,
   "id": "f1cee04a",
   "metadata": {},
   "outputs": [
    {
     "name": "stdout",
     "output_type": "stream",
     "text": [
      "1\n",
      "2\n",
      "3\n",
      "4\n",
      "5\n",
      "6\n",
      "7\n",
      "8\n",
      "9\n",
      "10\n"
     ]
    }
   ],
   "source": [
    "#12. Write a short program that prints the numbers 1 to 10 using a for loop. \n",
    "#Then write an equivalent program that prints the numbers 1 to 10 using a while loop.\n",
    "\n",
    "i=1\n",
    "while(i<=10):\n",
    "    print(i)\n",
    "    i=i+1"
   ]
  },
  {
   "cell_type": "raw",
   "id": "8461f387",
   "metadata": {},
   "source": [
    "13.If you had a function named bacon() inside a module named spam, how would you call it after importing spam?\n",
    "\n",
    "spam. bacon()"
   ]
  }
 ],
 "metadata": {
  "kernelspec": {
   "display_name": "Python 3 (ipykernel)",
   "language": "python",
   "name": "python3"
  },
  "language_info": {
   "codemirror_mode": {
    "name": "ipython",
    "version": 3
   },
   "file_extension": ".py",
   "mimetype": "text/x-python",
   "name": "python",
   "nbconvert_exporter": "python",
   "pygments_lexer": "ipython3",
   "version": "3.9.7"
  }
 },
 "nbformat": 4,
 "nbformat_minor": 5
}
